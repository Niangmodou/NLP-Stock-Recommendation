{
 "cells": [
  {
   "cell_type": "markdown",
   "metadata": {},
   "source": [
    "### Importing Required Libraries"
   ]
  },
  {
   "cell_type": "code",
   "execution_count": 4,
   "metadata": {},
   "outputs": [],
   "source": [
    "import requests\n",
    "import pandas as pd\n",
    "from yahoo_fin import stock_info\n",
    "from pandas_datareader import DataReader\n",
    "import numpy as np\n",
    "from urllib.request import urlopen, Request\n",
    "from bs4 import BeautifulSoup\n",
    "import os\n",
    "import matplotlib.pyplot as plt\n",
    "%matplotlib inline\n",
    "\n",
    "from nltk.sentiment.vader import SentimentIntensityAnalyzer"
   ]
  },
  {
   "cell_type": "markdown",
   "metadata": {},
   "source": [
    "### Retrieving S&P 500 stock information"
   ]
  },
  {
   "cell_type": "code",
   "execution_count": null,
   "metadata": {},
   "outputs": [],
   "source": [
    "#Function to retrieve S&P 500 recommendations from Yahoo Finance\n",
    "def get_recommendations(tickers):\n",
    "    recommendations = []\n",
    "    \n",
    "    for ticker in tickers:\n",
    "        #Yahoo Finance URL for current stock ticker\n",
    "        url = 'https://query2.finance.yahoo.com/v10/finance/quoteSummary/{} \\\n",
    "        ?formatted=true&crumb=swg7qs5y9UP&lang=en-US&region=US&modules= \\\n",
    "        upgradeDowngradeHistory,recommendationTrendfinancialData,earningsHistory,\\\n",
    "        earningsTrend,industryTrend&corsDomain=finance.yahoo.com'.format(ticker)\n",
    "        \n",
    "        #Requesting stock data from Yahoo Finance\n",
    "        data = requests.get(url)\n",
    "        \n",
    "        if(not data.ok):\n",
    "            recommendataion = -1\n",
    "        \n",
    "        res = data.json()\n",
    "        print(res)\n",
    "\n",
    "#S&P 500 Tickers\n",
    "tickers = stock_info.tickers_sp500()\n",
    "recommendations = get_recommendations(tickers)"
   ]
  },
  {
   "cell_type": "code",
   "execution_count": null,
   "metadata": {},
   "outputs": [],
   "source": []
  }
 ],
 "metadata": {
  "kernelspec": {
   "display_name": "Python 3",
   "language": "python",
   "name": "python3"
  },
  "language_info": {
   "codemirror_mode": {
    "name": "ipython",
    "version": 3
   },
   "file_extension": ".py",
   "mimetype": "text/x-python",
   "name": "python",
   "nbconvert_exporter": "python",
   "pygments_lexer": "ipython3",
   "version": "3.7.1"
  }
 },
 "nbformat": 4,
 "nbformat_minor": 2
}
